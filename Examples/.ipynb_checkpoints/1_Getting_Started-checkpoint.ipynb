{
 "cells": [
  {
   "cell_type": "markdown",
   "metadata": {},
   "source": [
    "# QAOAToolkit \n",
    "***\n",
    "## Introduction\n",
    "***\n",
    "In order to get the quantum circuit we want, we need to know the Objective function and then convert it into a hamiltonian expression. The toolkit is designed to help users to generate the quantum circuit by automating the process of converting the objective function into a Phase/Cost Hamiltonian.\n",
    "\n",
    "First we have to import the toolkit from hamiltonian under hamiltonian_engine. We need both mixer and phase hamiltonian packages to aid with circuit generation. There is also a expectation value package that helps to conslidate and produce expectation values from the circuit:"
   ]
  },
  {
   "cell_type": "code",
   "execution_count": 1,
   "metadata": {},
   "outputs": [],
   "source": [
    "import os \n",
    "os.path.sys.path.append('../hamiltonian_engine/')\n",
    "from hamiltonian import phase_hamiltonian as phs_ham\n",
    "from hamiltonian import mixer_hamiltonian as mix_ham\n",
    "from expectation_value import expectation_value as ex_vle"
   ]
  },
  {
   "cell_type": "markdown",
   "metadata": {},
   "source": [
    "## Phase Hamiltonians\n",
    "***\n",
    "Next, the user has to declare an objective function $f(x)$ : $ x_1 + x_2 - 2*x_1*x_2$ and a list of variables that must be found in $f(x)$. "
   ]
  },
  {
   "cell_type": "code",
   "execution_count": 2,
   "metadata": {},
   "outputs": [],
   "source": [
    "obj_function = 'x_u + x_v - 2*x_u*x_v'\n",
    "variables = ['x_v','x_u']"
   ]
  },
  {
   "cell_type": "markdown",
   "metadata": {},
   "source": [
    "To initialize the phase hamiltonian object, we to provide it with the objective function, $f(x)$ and the list of variables present and the equation will be converted into symbols. The user can call the phase hamiltonian object to produce $f(x)$ using the *get_objFun()*:"
   ]
  },
  {
   "cell_type": "code",
   "execution_count": 3,
   "metadata": {},
   "outputs": [
    {
     "data": {
      "text/latex": [
       "$\\displaystyle - 2 x_{u} x_{v} + x_{u} + x_{v}$"
      ],
      "text/plain": [
       "-2*x_u*x_v + x_u + x_v"
      ]
     },
     "execution_count": 3,
     "metadata": {},
     "output_type": "execute_result"
    }
   ],
   "source": [
    "phase_h = phs_ham(obj_function,variables)\n",
    "phase_h.get_objFun()"
   ]
  },
  {
   "cell_type": "markdown",
   "metadata": {},
   "source": [
    "The next step would be to convert $f(x)$ into $H_f$, for that we use the *Hamify()* function. The Hamify function follows a set rules in order to get different types of Phase/Cost Hamiltonians. For an arithmethic expression such as $f(x)$, the $x_1, x_2$ variables are then converted into an Pauli expression consisting of Pauli Z matrices in the form: $\\frac{1}{2} (I - Z_i)$. Finally we get :"
   ]
  },
  {
   "cell_type": "code",
   "execution_count": 4,
   "metadata": {},
   "outputs": [
    {
     "data": {
      "text/latex": [
       "$\\displaystyle 0.5 I - 0.5 Z_{u} Z_{v}$"
      ],
      "text/plain": [
       "0.5*I - 0.5*Z_u*Z_v"
      ]
     },
     "execution_count": 4,
     "metadata": {},
     "output_type": "execute_result"
    }
   ],
   "source": [
    "phase_h.Hamify()\n",
    "phase_h.get_pHamil()"
   ]
  },
  {
   "cell_type": "markdown",
   "metadata": {},
   "source": [
    " However the zz pauli expression above my not add up, this is because we are not interested in the global phase factors in the quantum circuits. If the user still wishes to see the proper expansion of $f(x)$ to $H_f$. Then the user can choose to set the option of not removing the global phase factors by setting global_phse to \"False\".The Identiy Matrix $I$ is treated as 1 in all expansion,as such we get:"
   ]
  },
  {
   "cell_type": "code",
   "execution_count": 5,
   "metadata": {},
   "outputs": [
    {
     "data": {
      "text/latex": [
       "$\\displaystyle 0.5 I - 0.5 Z_{u} Z_{v}$"
      ],
      "text/plain": [
       "0.5*I - 0.5*Z_u*Z_v"
      ]
     },
     "execution_count": 5,
     "metadata": {},
     "output_type": "execute_result"
    }
   ],
   "source": [
    "phase_h.Hamify()\n",
    "phase_h.get_pHamil()"
   ]
  },
  {
   "cell_type": "markdown",
   "metadata": {},
   "source": [
    "In some, cases the certain expressions tend to form powers in the arguments, by default the toolkit reduces them to power 1 since it does not affect the calculations, however, users have an option to leave the powers above 1 alone:"
   ]
  },
  {
   "cell_type": "code",
   "execution_count": 6,
   "metadata": {},
   "outputs": [
    {
     "data": {
      "text/latex": [
       "$\\displaystyle 0.25 I + 0.25 Z_{1}^{2} - 0.5 Z_{1}$"
      ],
      "text/plain": [
       "0.25*I + 0.25*Z_1**2 - 0.5*Z_1"
      ]
     },
     "execution_count": 6,
     "metadata": {},
     "output_type": "execute_result"
    }
   ],
   "source": [
    "# declare an objective function\n",
    "obj_func2 = 'x_1 ** 2'\n",
    "variables2 = ['x_1']\n",
    "\n",
    "# Instantiate new hamiltonian and Hamify!\n",
    "phase_h2 = phs_ham(obj_func2, variables2)\n",
    "phase_h2.Hamify(pwr_args=False)\n",
    "phase_h2.get_pHamil()"
   ]
  },
  {
   "cell_type": "markdown",
   "metadata": {},
   "source": [
    "## Mixer Hamiltonians\n",
    "***\n",
    "The mixer hamiltonian package helps to generate a mixer hamiltonian based on the problem. For now let's just stick to Pauli X rotation gates to allow transition between all feasible subspace i.e. all possible bit string combinations. Instantiate a new mixer hamiltonian class using the phase Hamiltonian:"
   ]
  },
  {
   "cell_type": "code",
   "execution_count": 7,
   "metadata": {},
   "outputs": [],
   "source": [
    "mx_ham = mix_ham()"
   ]
  },
  {
   "cell_type": "markdown",
   "metadata": {},
   "source": [
    "##### Warning: If the user decides to generate the circuit from the phase/mixer hamiltonian package, then it is highly adivsed to leave the *Hamify()* function to its default values\n",
    "This is so that we can generate the quantum circuit based on the necessary pauli expressions"
   ]
  },
  {
   "cell_type": "code",
   "execution_count": 8,
   "metadata": {},
   "outputs": [
    {
     "data": {
      "text/latex": [
       "$\\displaystyle 0.5 I - 0.5 Z_{u} Z_{v}$"
      ],
      "text/plain": [
       "0.5*I - 0.5*Z_u*Z_v"
      ]
     },
     "execution_count": 8,
     "metadata": {},
     "output_type": "execute_result"
    }
   ],
   "source": [
    "phase_h.Hamify()\n",
    "phase_h.get_pHamil()"
   ]
  },
  {
   "cell_type": "markdown",
   "metadata": {},
   "source": [
    "Then Users can import all the necessary packages from qiskit to run the circuit."
   ]
  },
  {
   "cell_type": "code",
   "execution_count": 9,
   "metadata": {},
   "outputs": [],
   "source": [
    "# importing Qiskit\n",
    "from qiskit import Aer, IBMQ\n",
    "from qiskit import execute\n",
    "from qiskit.tools.monitor import job_monitor\n",
    "from qiskit.visualization import plot_histogram"
   ]
  },
  {
   "cell_type": "markdown",
   "metadata": {},
   "source": [
    "In order to generate the full QAOA circuit the users need to have the mixer and phase hamiltonians. For the Mixer Hamiltonians, users call the function *generalXMixer()* function to allow transistion to all subspaces.\n",
    "\n",
    "For the phase hamiltonian, users can choose to either map each the variables in the list/equation to an individual qubit or map the $H_f$ (containing only **2 variables**) to each edge of a graph. In this case, we use a per Qubit mapper\n",
    "\n",
    "The **_perQubitMap()_** function have the following parameters:<br>             \n",
    "- **gamma**  : \n",
    "    rotation angle values for the cost/phase Hamiltonian \n",
    "- **p**      :\n",
    "    Steps to determine the depth of the circuit\n",
    "- **barrier**:\n",
    "    Choice to place a quantum barrier after the phase hamiltonian portion of the circuit\n",
    "- **initial_Hadamard**:\n",
    "    If Users want they have a choice to assign a hadamard gates to all variables to be in superposition\n",
    "             \n",
    "The **_generalXMixer()_** function have the following parameters:<br>             \n",
    "- **betas**  : \n",
    "    rotation angle values for the mixer Hamiltonian \n",
    "- **p**      :\n",
    "    Steps to determine the depth of the circuit\n",
    "- **measure**:\n",
    "    Choice to measure all the qubits and store in a classical register\n",
    "- **graph_map**:\n",
    "    If a graph needs to used to map the qubits \n",
    "- **graph**:\n",
    "    A Networkx graph that the problem is based on  "
   ]
  },
  {
   "cell_type": "code",
   "execution_count": 32,
   "metadata": {},
   "outputs": [
    {
     "data": {
      "text/latex": [
       "$\\displaystyle 0.5 I + 0.5 Z_{u} Z_{v} - 0.5 Z_{u} - 0.5 Z_{v}$"
      ],
      "text/plain": [
       "0.5*I + 0.5*Z_u*Z_v - 0.5*Z_u - 0.5*Z_v"
      ]
     },
     "execution_count": 32,
     "metadata": {},
     "output_type": "execute_result"
    }
   ],
   "source": [
    "gammas = [0.0]\n",
    "betas = [0.0]\n",
    "phase_h.perQubitMap(gammas, 1, True, True) \n",
    "phase_hMap = phase_h.qubit_map\n",
    "mx_ham.generalXMixer(betas,1,phase_hMap,True)"
   ]
  },
  {
   "cell_type": "markdown",
   "metadata": {},
   "source": [
    "Finally the full circuit would look like:<br>\n",
    "<br>\n",
    "#### *All of the examples above has p value of 1"
   ]
  },
  {
   "cell_type": "code",
   "execution_count": 11,
   "metadata": {},
   "outputs": [
    {
     "data": {
      "image/png": "[encoded data removed]",
      "text/plain": [
       "<Figure size 719.992x204.68 with 1 Axes>"
      ]
     },
     "execution_count": 11,
     "metadata": {},
     "output_type": "execute_result"
    }
   ],
   "source": [
    "cir = phase_h.get_quantumCircuit() + mx_ham.get_quantumCircuit()\n",
    "cir.draw(output='mpl')"
   ]
  },
  {
   "cell_type": "code",
   "execution_count": 12,
   "metadata": {},
   "outputs": [],
   "source": [
    "# run on local simulator\n",
    "backend      = Aer.get_backend(\"qasm_simulator\")\n",
    "shots        = 1000\n",
    "\n",
    "simulate     = execute(cir, backend=backend, shots=shots)\n",
    "res = simulate.result()"
   ]
  },
  {
   "cell_type": "markdown",
   "metadata": {},
   "source": [
    "After simulating the circuit, the next step is calculate the expectation value for that, we have an expectation value package that we can use:"
   ]
  },
  {
   "cell_type": "code",
   "execution_count": 13,
   "metadata": {},
   "outputs": [
    {
     "data": {
      "text/plain": [
       "0.000484"
      ]
     },
     "execution_count": 13,
     "metadata": {},
     "output_type": "execute_result"
    }
   ],
   "source": [
    "# Instantiate object for expectation value\n",
    "expt = ex_vle(obj_function,variables,is_graph=False)\n",
    "\n",
    "expt.use_qubitMap(qubit_map=phase_hMap)\n",
    "\n",
    "#Calculate the results\n",
    "expt.get_expectationValue(res, shots)"
   ]
  },
  {
   "cell_type": "markdown",
   "metadata": {},
   "source": [
    "However, this expecation value does not make sense now, since the rotation angles $\\gamma$ and $\\beta$ were random. The *hamiltonian* class helps the user generate $U(C,\\gamma)$ and $U(B,\\beta)$ parts of the circuits, which is useful for **QUBO** or similar problems"
   ]
  },
  {
   "cell_type": "markdown",
   "metadata": {},
   "source": [
    "### Boolean functions and Graphs:\n",
    "***\n",
    "Some objective functions come in the form of boolean expressions, hence the engine is able convert boolean function $f(x)$  to $H_f$. However, the user has to declare that the $f(x)$ is a boolean expression, when the **Hamify()** function is called:"
   ]
  },
  {
   "cell_type": "code",
   "execution_count": 14,
   "metadata": {},
   "outputs": [
    {
     "data": {
      "text/latex": [
       "$\\displaystyle \\left(x_{u} \\wedge \\neg x_{v}\\right) \\vee \\left(x_{v} \\wedge \\neg x_{u}\\right)$"
      ],
      "text/plain": [
       "(x_u & ~x_v) | (x_v & ~x_u)"
      ]
     },
     "execution_count": 14,
     "metadata": {},
     "output_type": "execute_result"
    }
   ],
   "source": [
    "bool_exp = '~x_u & x_v | ~x_v & x_u'\n",
    "variables = ['x_v','x_u']\n",
    "\n",
    "phase_h = phs_ham(bool_exp,variables)\n",
    "phase_h.get_objFun()"
   ]
  },
  {
   "cell_type": "markdown",
   "metadata": {},
   "source": [
    "When $f(x)$ has been converted to $H_f$,  we realise that the $H_f$ is the same as the function: $f(x)$ : $ x_1 + x_2 - 2*x_1*x_2$ which also known as $x_1\\oplus x_2$:"
   ]
  },
  {
   "cell_type": "code",
   "execution_count": 15,
   "metadata": {},
   "outputs": [
    {
     "data": {
      "text/latex": [
       "$\\displaystyle 0.5 I - 0.5 Z_{u} Z_{v}$"
      ],
      "text/plain": [
       "0.5*I - 0.5*Z_u*Z_v"
      ]
     },
     "execution_count": 15,
     "metadata": {},
     "output_type": "execute_result"
    }
   ],
   "source": [
    "phase_h.Hamify(boolean=True)\n",
    "phase_h.get_pHamil()"
   ]
  },
  {
   "cell_type": "markdown",
   "metadata": {},
   "source": [
    "Hamiltonian engine uses networkx to map the graphs onto the circuits. Using networkx one can create a simple graph:"
   ]
  },
  {
   "cell_type": "code",
   "execution_count": 2,
   "metadata": {},
   "outputs": [
    {
     "data": {
      "image/png": "[encoded data removed]",
      "text/plain": [
       "<Figure size 432x288 with 1 Axes>"
      ]
     },
     "metadata": {},
     "output_type": "display_data"
    }
   ],
   "source": [
    "import networkx as nx \n",
    "import matplotlib.pyplot as plt \n",
    "from   matplotlib import cm\n",
    "from   matplotlib.ticker import LinearLocator, FormatStrFormatter\n",
    "\n",
    "#Generate a graph here using networkx\n",
    "# Number of Nodes\n",
    "n = 3\n",
    "degree = 2\n",
    "\n",
    "# Create the graph\n",
    "G = nx.random_regular_graph(degree, n)\n",
    "plt.subplot(121)\n",
    "\n",
    "nx.draw(G,with_labels=1, pos=nx.spring_layout(G), node_color='w', edge_color='g')"
   ]
  },
  {
   "cell_type": "markdown",
   "metadata": {},
   "source": [
    "The phase hamiltonian can then be mapped onto each edge, Users have to make sure that the boolean function only contains 2 variables so that the function can be mapped onto each edge of the graph, this is simulate functions that contains $\\sum_{(U,V) \\epsilon E} f(x)$ <br>\n",
    "The **_perEdgeMap()_** function have the following parameters:<br>             \n",
    "- **gamma**  : \n",
    "    rotation angle values for the cost/phase Hamiltonian \n",
    "- **p**      :\n",
    "    Steps to determine the depth of the circuit\n",
    "- **G**      : The networkx graph that the mapping should be based on\n",
    "- **barrier**:\n",
    "    Choice to place a quantum barrier after the phase hamiltonian portion of the circuit\n",
    "- **initial_Hadamard**:\n",
    "    If Users want they have a choice to assign a hadamard gates to all variables to be in superposition\n",
    "             "
   ]
  },
  {
   "cell_type": "code",
   "execution_count": 17,
   "metadata": {},
   "outputs": [],
   "source": [
    "gammas = [1.0]\n",
    "betas  = [1.0]\n",
    "\n",
    "phase_h.perEdgeMap(gammas,1, G, True, True)\n",
    "phase_hMap = phase_h.qubit_map\n",
    "\n",
    "mx_ham.generalXMixer(betas,1, phase_hMap, True)"
   ]
  },
  {
   "cell_type": "code",
   "execution_count": 18,
   "metadata": {},
   "outputs": [
    {
     "data": {
      "image/png": "[encoded data removed]",
      "text/plain": [
       "<Figure size 1141.39x264.88 with 1 Axes>"
      ]
     },
     "execution_count": 18,
     "metadata": {},
     "output_type": "execute_result"
    }
   ],
   "source": [
    "cir_graph = phase_h.get_quantumCircuit() + mx_ham.get_quantumCircuit()\n",
    "cir_graph.draw(output='mpl')"
   ]
  },
  {
   "cell_type": "markdown",
   "metadata": {},
   "source": [
    "After generating the quantum circuit, Users can calulate the expectation value of the circuit. In true, QAOA fashion the hyperparameters have to be tuned to get the maximum expectation value of the problem. Users can use SciPy's optimization algorithms to tune the rotation values of the gate."
   ]
  },
  {
   "cell_type": "code",
   "execution_count": 19,
   "metadata": {},
   "outputs": [],
   "source": [
    "res_graph = ex_vle(obj_function,variables,is_graph=True)"
   ]
  },
  {
   "cell_type": "code",
   "execution_count": 20,
   "metadata": {},
   "outputs": [
    {
     "data": {
      "text/plain": [
       "0.132"
      ]
     },
     "execution_count": 20,
     "metadata": {},
     "output_type": "execute_result"
    }
   ],
   "source": [
    "# run on local simulator\n",
    "backend      = Aer.get_backend(\"qasm_simulator\")\n",
    "shots        = 10000\n",
    "\n",
    "simulate     = execute(cir_graph, backend=backend, shots=shots)\n",
    "results = simulate.result()\n",
    "\n",
    "res_graph.get_expectationValue(results,shots,G)"
   ]
  },
  {
   "cell_type": "markdown",
   "metadata": {},
   "source": [
    "### k-Dit Mapping (Experimental)\n",
    "***\n",
    "\n",
    "k-dit mapping function is used to generate the phase hamiltonian circuit, this aims to be useful for problems such as Graph-$k$-Colouring, where $f(x)= m - \\sum_{(u,v) \\epsilon E} \\sum_{i = 1}^k x_{u,i} x_{v,i}$, m is the number of Edges. Based on previous examples, we will still tackle the objective function, ignoring the $\\sum_{i=1}^k$ terms, hence defining the objective function as $f(x) = x_u x_v$. We can still follow the same few first steps:"
   ]
  },
  {
   "cell_type": "code",
   "execution_count": 21,
   "metadata": {},
   "outputs": [],
   "source": [
    "import os \n",
    "os.path.sys.path.append('../hamiltonian_engine/')\n",
    "from hamiltonian import phase_hamiltonian as phs_ham\n",
    "from hamiltonian import mixer_hamiltonian as mix_ham\n",
    "from qiskit import *\n",
    "\n",
    "\n",
    "obj_function = 'x_u * x_v + x_v * x_u'\n",
    "variables = ['x_u','x_v']\n",
    "\n",
    "phase_h = phs_ham(obj_function,variables)"
   ]
  },
  {
   "cell_type": "code",
   "execution_count": 22,
   "metadata": {},
   "outputs": [
    {
     "data": {
      "text/latex": [
       "$\\displaystyle 0.5 I + 0.5 Z_{u} Z_{v} - 0.5 Z_{u} - 0.5 Z_{v}$"
      ],
      "text/plain": [
       "0.5*I + 0.5*Z_u*Z_v - 0.5*Z_u - 0.5*Z_v"
      ]
     },
     "execution_count": 22,
     "metadata": {},
     "output_type": "execute_result"
    }
   ],
   "source": [
    "phase_h.Hamify()\n",
    "phase_h.get_pHamil()"
   ]
  },
  {
   "cell_type": "markdown",
   "metadata": {},
   "source": [
    "Generate a graph using networkx:"
   ]
  },
  {
   "cell_type": "code",
   "execution_count": 2,
   "metadata": {},
   "outputs": [
    {
     "data": {
      "image/png": "[encoded data removed]",
      "text/plain": [
       "<Figure size 432x288 with 1 Axes>"
      ]
     },
     "metadata": {},
     "output_type": "display_data"
    }
   ],
   "source": [
    "import networkx as nx \n",
    "import matplotlib.pyplot as plt \n",
    "from   matplotlib import cm\n",
    "from   matplotlib.ticker import LinearLocator, FormatStrFormatter\n",
    "\n",
    "#Generate a graph here using networkx\n",
    "# Number of Nodes\n",
    "n = 3\n",
    "degree = 2\n",
    "\n",
    "# Create the graph\n",
    "G = nx.random_regular_graph(degree, n)\n",
    "plt.subplot(121)\n",
    "\n",
    "nx.draw(G,with_labels=1, pos=nx.spring_layout(G), node_color='w', edge_color='g')"
   ]
  },
  {
   "cell_type": "markdown",
   "metadata": {},
   "source": [
    "The next step is to call the **_perDitMap()_** function,this is where will consider the $\\sum_{i=1}^k$ terms. Based on the objective function earlier, both variables had the subscript $i$, $x_{u,i} x_{v,i}$, however in some cases the objective function may be defined as $f(x)= \\sum_{(u,v) \\epsilon E}d_{u,v} \\sum_{i = 1}^k x_{u,i} x_{v,i + 1} + x_{v,i}x_{u,i+1}$, which is the Travelling Salespersons Problem. In order to tackle that, the **_perDitMap()_** function contains a _sub_expr_ argument, where users can define the next variables interaction. \n",
    "Our current example both have $i$ thus the _sub_expr_={'$i$':'$i$'} which is also the default value, however if we want to map according the TSP, then _sub_expr_={'$i$': '$i$ + 1'}.<br>\n",
    "**To Note**:<br>\n",
    "The calculation for _sub_expr_ used a % expression to ensure the mapping will not get out of index error\n",
    "\n",
    "The **_perDitMap()_** function have the following parameters:<br>             \n",
    "- **gamma**  : \n",
    "    rotation angle values for the cost/phase Hamiltonian \n",
    "- **p**      :\n",
    "    Steps to determine the depth of the circuit\n",
    "- **k_dits** :\n",
    "    Number of qubits assigned to each vertex of the Graph\n",
    "- **sub_expr**:\n",
    "    Default={'i':'i'}, else users can change the value expression of the dict,but always keeping the key as 'i'\n",
    "- **barrier**:\n",
    "    Choice to place a quantum barrier after the phase hamiltonian portion of the circuit\n",
    "- **initial_Hadamard**:\n",
    "    If Users want they have a choice to assign a hadamard gates to all variables to be in superposition\n",
    "\n",
    "Users can also check how the $k$-Dits are mapped by calling the _.qudit_map_ after calling the **_perDitMap()_** function"
   ]
  },
  {
   "cell_type": "code",
   "execution_count": 24,
   "metadata": {},
   "outputs": [
    {
     "data": {
      "text/plain": [
       "{1: (0, 1), 2: (2, 3), 0: (4, 5)}"
      ]
     },
     "execution_count": 24,
     "metadata": {},
     "output_type": "execute_result"
    }
   ],
   "source": [
    "gamma = [0.9]\n",
    "phase_h.perDitMap(gamma, 1, 2, G, sub_expr={'i':'i'})\n",
    "phase_h.qubit_map"
   ]
  },
  {
   "cell_type": "markdown",
   "metadata": {},
   "source": [
    "The expression given was {'$i$': '$i$'}:"
   ]
  },
  {
   "cell_type": "code",
   "execution_count": 25,
   "metadata": {},
   "outputs": [
    {
     "data": {
      "image/png": "[encoded data removed]",
      "text/plain": [
       "<Figure size 1201.59x385.28 with 1 Axes>"
      ]
     },
     "execution_count": 25,
     "metadata": {},
     "output_type": "execute_result"
    }
   ],
   "source": [
    "quantum_circuit = phase_h.get_quantumCircuit()\n",
    "quantum_circuit.draw(output='mpl')"
   ]
  },
  {
   "cell_type": "markdown",
   "metadata": {},
   "source": [
    "However, if the expression given was {'$i$': '$i$ + 1'}, then we can see the shift in the circuit:"
   ]
  },
  {
   "cell_type": "code",
   "execution_count": 26,
   "metadata": {},
   "outputs": [
    {
     "data": {
      "image/png": "[encoded data removed]",
      "text/plain": [
       "<Figure size 1201.59x385.28 with 1 Axes>"
      ]
     },
     "execution_count": 26,
     "metadata": {},
     "output_type": "execute_result"
    }
   ],
   "source": [
    "phase_h.perDitMap(gamma, 1, 2, G, sub_expr={'i':'i+1'})\n",
    "quantum_circuit = phase_h.get_quantumCircuit()\n",
    "quantum_circuit.draw(output='mpl')"
   ]
  },
  {
   "cell_type": "code",
   "execution_count": 27,
   "metadata": {},
   "outputs": [
    {
     "data": {
      "text/latex": [
       "$\\displaystyle 0.5 I + 0.5 Z_{u} Z_{v} - 0.5 Z_{u} - 0.5 Z_{v}$"
      ],
      "text/plain": [
       "0.5*I + 0.5*Z_u*Z_v - 0.5*Z_u - 0.5*Z_v"
      ]
     },
     "execution_count": 27,
     "metadata": {},
     "output_type": "execute_result"
    }
   ],
   "source": [
    "phase_h.get_pHamil()"
   ]
  },
  {
   "cell_type": "markdown",
   "metadata": {},
   "source": [
    "The hamiltonian class tries to minimize the calculations required to generate the QAOA circuits for the users, but still allows tries to provide the users with the flexibility to add on or modify the circuits.\n",
    "\n",
    "The next part explains **Hamiltonian Operations**>>>"
   ]
  }
 ],
 "metadata": {
  "kernelspec": {
   "display_name": "Python 3",
   "language": "python",
   "name": "python3"
  },
  "language_info": {
   "codemirror_mode": {
    "name": "ipython",
    "version": 3
   },
   "file_extension": ".py",
   "mimetype": "text/x-python",
   "name": "python",
   "nbconvert_exporter": "python",
   "pygments_lexer": "ipython3",
   "version": "3.7.3"
  }
 },
 "nbformat": 4,
 "nbformat_minor": 2
}
